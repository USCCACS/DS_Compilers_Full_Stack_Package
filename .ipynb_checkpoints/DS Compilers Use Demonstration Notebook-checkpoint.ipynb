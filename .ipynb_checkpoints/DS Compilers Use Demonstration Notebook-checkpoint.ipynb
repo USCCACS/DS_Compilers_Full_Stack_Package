{
 "cells": [
  {
   "cell_type": "markdown",
   "metadata": {},
   "source": [
    "# 1) Imports"
   ]
  },
  {
   "cell_type": "code",
   "execution_count": 1,
   "metadata": {
    "scrolled": false
   },
   "outputs": [],
   "source": [
    "#import DS compiler module\n",
    "from ds_compiler import ds_compile\n",
    "#import module defining local circuits and gates\n",
    "import program\n",
    "#import Heisenberg circuit generation module\n",
    "from circuit_generation import Heisenberg"
   ]
  },
  {
   "cell_type": "markdown",
   "metadata": {},
   "source": [
    "# 2) Create List of Uncompiled Quantum Circuits \n",
    "If you have your own quantum circuits that you would like to run through the DS compiler, you can skip this step"
   ]
  },
  {
   "cell_type": "code",
   "execution_count": 2,
   "metadata": {},
   "outputs": [
    {
     "name": "stdout",
     "output_type": "stream",
     "text": [
      "Generating timestep 0 circuit\n",
      "Generating timestep 1 circuit\n",
      "Generating timestep 2 circuit\n",
      "Generating timestep 3 circuit\n",
      "Generating timestep 4 circuit\n",
      "Generating timestep 5 circuit\n",
      "Generating timestep 6 circuit\n",
      "Generating timestep 7 circuit\n",
      "Generating timestep 8 circuit\n",
      "Generating timestep 9 circuit\n",
      "Generating timestep 10 circuit\n",
      "Generating timestep 11 circuit\n",
      "Generating timestep 12 circuit\n",
      "Generating timestep 13 circuit\n",
      "Generating timestep 14 circuit\n",
      "Generating timestep 15 circuit\n",
      "Generating timestep 16 circuit\n",
      "Generating timestep 17 circuit\n",
      "Generating timestep 18 circuit\n",
      "Generating timestep 19 circuit\n",
      "Generating timestep 20 circuit\n",
      "Generating timestep 21 circuit\n",
      "Generating timestep 22 circuit\n",
      "Generating timestep 23 circuit\n",
      "Generating timestep 24 circuit\n",
      "Generating timestep 25 circuit\n",
      "Generating timestep 26 circuit\n",
      "Generating timestep 27 circuit\n",
      "Generating timestep 28 circuit\n",
      "Generating timestep 29 circuit\n",
      "Generating timestep 30 circuit\n",
      "Creating IBM quantum circuit objects...\n",
      "IBM quantum circuit objects created\n"
     ]
    }
   ],
   "source": [
    "#Let's create a list of circuits to run through the DS compiler.\n",
    "\n",
    "#First, create the Heisenberg object using the parameters specified in the input file. This defines the system to simulate\n",
    "#and allows for the generation of circuits to simulate the time evolution of this system.\n",
    "test_object=Heisenberg(\"compiler_input_file.txt\")\n",
    "\n",
    "#Now we generate and return the list of generated (and uncompiled) circuits to a list in the workspace\n",
    "circuits=test_object.return_circuits()\n",
    "\n",
    "#You'll notice that the input file tells the software not to compile the circuits yet.\n",
    "    \n"
   ]
  },
  {
   "cell_type": "markdown",
   "metadata": {},
   "source": [
    "# 3) Run the Quantum Circuits Through the DS Compiler"
   ]
  },
  {
   "cell_type": "code",
   "execution_count": 3,
   "metadata": {},
   "outputs": [],
   "source": [
    "#Using the DS compiler to compile this list of IBM circuits is as simple as the following:\n",
    "#the second argument tells the compiler that it's working in the native gate set chosen by IBM.\n",
    "\n",
    "compiled_circuits=[] #create empty list for compiled circuits\n",
    "for circuit in circuits:\n",
    "    compiled_circuits.append(ds_compile(circuit,\"ibm\")) #run each circuit through the DS compiler\n"
   ]
  },
  {
   "cell_type": "code",
   "execution_count": 6,
   "metadata": {},
   "outputs": [
    {
     "data": {
      "text/plain": [
       "<matplotlib.legend.Legend at 0x7f5f51bb3490>"
      ]
     },
     "execution_count": 6,
     "metadata": {},
     "output_type": "execute_result"
    },
    {
     "data": {
      "image/png": "[encoded data removed]",
      "text/plain": [
       "<Figure size 432x288 with 1 Axes>"
      ]
     },
     "metadata": {
      "needs_background": "light"
     },
     "output_type": "display_data"
    }
   ],
   "source": [
    "#This is for compiler checking purposes only\n",
    "len1=[]\n",
    "for circuit in circuits:\n",
    "    len1.append(len(circuit))\n",
    "    \n",
    "len2=[]\n",
    "for circuit in compiled_circuits:\n",
    "    len2.append(len(circuit))\n",
    "\n",
    "import matplotlib.pyplot as plt\n",
    "plt.plot(len1)\n",
    "plt.plot(len2)\n",
    "plt.legend([\"uncompiled\",\"compiled\"])"
   ]
  },
  {
   "cell_type": "code",
   "execution_count": null,
   "metadata": {},
   "outputs": [],
   "source": []
  }
 ],
 "metadata": {
  "kernelspec": {
   "display_name": "Python (qcompiler_laptop)",
   "language": "python",
   "name": "qcompiler_laptop"
  },
  "language_info": {
   "codemirror_mode": {
    "name": "ipython",
    "version": 3
   },
   "file_extension": ".py",
   "mimetype": "text/x-python",
   "name": "python",
   "nbconvert_exporter": "python",
   "pygments_lexer": "ipython3",
   "version": "3.7.7"
  }
 },
 "nbformat": 4,
 "nbformat_minor": 2
}
