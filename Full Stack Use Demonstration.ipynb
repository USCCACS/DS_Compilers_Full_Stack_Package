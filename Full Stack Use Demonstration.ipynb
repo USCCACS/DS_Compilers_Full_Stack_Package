{
 "cells": [
  {
   "cell_type": "code",
   "execution_count": 1,
   "metadata": {
    "scrolled": false
   },
   "outputs": [],
   "source": [
    "from ds_compiler import ds_compile\n",
    "import program\n",
    "from circuit_generation import Heisenberg"
   ]
  },
  {
   "cell_type": "code",
   "execution_count": 9,
   "metadata": {},
   "outputs": [
    {
     "name": "stderr",
     "output_type": "stream",
     "text": [
      "ibmqfactory.load_account:WARNING:2020-08-22 15:42:26,776: Credentials are already in use. The existing account in the session will be replaced.\n"
     ]
    },
    {
     "name": "stdout",
     "output_type": "stream",
     "text": [
      "Generating timestep 0 circuit\n",
      "Generating timestep 1 circuit\n",
      "Generating timestep 2 circuit\n",
      "Generating timestep 3 circuit\n",
      "Generating timestep 4 circuit\n",
      "Generating timestep 5 circuit\n",
      "Generating timestep 6 circuit\n",
      "Generating timestep 7 circuit\n",
      "Generating timestep 8 circuit\n",
      "Generating timestep 9 circuit\n",
      "Generating timestep 10 circuit\n",
      "Generating timestep 11 circuit\n",
      "Generating timestep 12 circuit\n",
      "Generating timestep 13 circuit\n",
      "Generating timestep 14 circuit\n",
      "Generating timestep 15 circuit\n",
      "Generating timestep 16 circuit\n",
      "Generating timestep 17 circuit\n",
      "Generating timestep 18 circuit\n",
      "Generating timestep 19 circuit\n",
      "Generating timestep 20 circuit\n",
      "Generating timestep 21 circuit\n",
      "Generating timestep 22 circuit\n",
      "Generating timestep 23 circuit\n",
      "Generating timestep 24 circuit\n",
      "Generating timestep 25 circuit\n",
      "Generating timestep 26 circuit\n",
      "Generating timestep 27 circuit\n",
      "Generating timestep 28 circuit\n",
      "Generating timestep 29 circuit\n",
      "Generating timestep 30 circuit\n",
      "Creating IBM quantum circuit objects...\n",
      "IBM quantum circuit objects created\n",
      "Transpiling circuits...\n",
      "Circuits transpiled successfully\n"
     ]
    }
   ],
   "source": [
    "#Let's create a list of circuits to run through the DS compiler.\n",
    "\n",
    "#First, create the Heisenberg object using the parameters specified in the input file. This defines the system to simulate\n",
    "#and allows for the generation of circuits to simulate the time evolution of this system.\n",
    "test_object=Heisenberg(\"compiler_input_file.txt\")\n",
    "test_object.connect_IBM()\n",
    "circuits=test_object.return_circuits()\n",
    "\n",
    "#You'll notice that the input file tells the software not to compile the circuits yet.\n",
    "    \n"
   ]
  },
  {
   "cell_type": "code",
   "execution_count": 13,
   "metadata": {},
   "outputs": [],
   "source": [
    "#Using the DS compiler for this list of IBM circuits is as simple as this:\n",
    "\n",
    "compiled_circuits=[]\n",
    "for circuit in circuits:\n",
    "    compiled_circuits.append(ds_compile(circuit,\"ibm\"))"
   ]
  }
 ],
 "metadata": {
  "kernelspec": {
   "display_name": "Python (qcompiler_laptop)",
   "language": "python",
   "name": "qcompiler_laptop"
  },
  "language_info": {
   "codemirror_mode": {
    "name": "ipython",
    "version": 3
   },
   "file_extension": ".py",
   "mimetype": "text/x-python",
   "name": "python",
   "nbconvert_exporter": "python",
   "pygments_lexer": "ipython3",
   "version": "3.7.7"
  }
 },
 "nbformat": 4,
 "nbformat_minor": 2
}
